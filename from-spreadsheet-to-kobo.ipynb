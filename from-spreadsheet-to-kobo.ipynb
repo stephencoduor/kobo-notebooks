{
  "cells": [
    {
      "cell_type": "markdown",
      "metadata": {
        "id": "JzNddP44iYWF"
      },
      "source": [
        "# From spreadsheet to Kobo\n",
        "---\n",
        "\n",
        "![](https://media.giphy.com/media/xUNd9KMFMPtn5reCiI/giphy.gif)\n",
        "\n",
        "Sometimes you might want to import data from a spreadsheet into the Kobo database. Maybe you've exported your original data into a spreadsheet, done some data-cleaning and now you want it back. If that's the case, you may want to checkout the [bulk updating feature](https://support.kobotoolbox.org/howto_edit_multiple_submissions.html) now included in the UI. Whatever the case, perhaps the following tutorial may help — or at least guide you in a right direction.\n",
        "\n",
        "## Get things setup\n",
        "---\n",
        "\n",
        "You may need to `pip install` some necessary packages to perform some functions depending on your local setup. I'm currently using the [`jupyter/datascience-notebook`](https://registry.hub.docker.com/r/jupyter/datascience-notebook/#!) Docker image. If you have Docker installed locally, you can do the same by running the following command and pasting the generated URL into your browser:\n",
        "\n",
        "```bash\n",
        "docker run -p 8888:8888 -v ~/notebooks:/home/jovyan jupyter/datascience-notebook\n",
        "```\n",
        "\n",
        "Once that's out the way, let's go ahead and import all that we need."
      ]
    },
    {
      "cell_type": "markdown",
      "metadata": {
        "id": "hPvQSIL4iYWJ"
      },
      "source": [
        "### Install any necessary packages ⬇️"
      ]
    },
    {
      "cell_type": "code",
      "execution_count": null,
      "metadata": {
        "collapsed": true,
        "id": "FZtLtKTBiYWK",
        "outputId": "34c9f4e1-d67e-4ee8-f408-8410c2f783ff"
      },
      "outputs": [
        {
          "name": "stdout",
          "output_type": "stream",
          "text": [
            "Requirement already satisfied: openpyxl in /opt/conda/lib/python3.8/site-packages (3.0.7)\r\n",
            "Requirement already satisfied: et-xmlfile in /opt/conda/lib/python3.8/site-packages (from openpyxl) (1.0.1)\r\n"
          ]
        }
      ],
      "source": [
        "!pip install openpyxl"
      ]
    },
    {
      "cell_type": "markdown",
      "metadata": {
        "id": "79dCY7YaiYWN"
      },
      "source": [
        "### Import whatever you need 👇"
      ]
    },
    {
      "cell_type": "code",
      "execution_count": 4,
      "metadata": {
        "id": "kIL34Mu1iYWN"
      },
      "outputs": [],
      "source": [
        "import io\n",
        "import requests\n",
        "import uuid\n",
        "from datetime import datetime\n",
        "from random import choice, randint, sample\n",
        "from time import sleep\n",
        "from xml.etree import ElementTree as ET\n",
        "\n",
        "import pandas as pd\n",
        "import pytz"
      ]
    },
    {
      "cell_type": "markdown",
      "metadata": {
        "id": "Ptrqw2BciYWO"
      },
      "source": [
        "### Set up some helpful constants that we'll use below 🤘"
      ]
    },
    {
      "cell_type": "code",
      "execution_count": 16,
      "metadata": {
        "id": "KGvWC3ZjiYWP"
      },
      "outputs": [],
      "source": [
        "TOKEN='90ef6878cea96288f146c490bee694f3d3de5ad3'\n",
        "\n",
        "KC_URL = 'https://ktc.kobocaid.eu'\n",
        "KF_URL = 'https://ktf.kobocaid.eu'\n",
        "\n",
        "ASSET_UID = 'akEPXAsUX5E5FXhqsnJDfk'\n",
        "\n",
        "DATA_URL = f'{KF_URL}/api/v2/assets/{ASSET_UID}/data'\n",
        "XML_URL = f'{DATA_URL}.xml'\n",
        "SUMISSION_URL = f'{KC_URL}/api/v1/submissions'\n",
        "\n",
        "HEADERS = {\n",
        "    'Authorization': f'Token {TOKEN}'\n",
        "}\n",
        "PARAMS = {\n",
        "    'format': 'json'\n",
        "}"
      ]
    },
    {
      "cell_type": "markdown",
      "metadata": {
        "id": "b4lC1WVAiYWQ"
      },
      "source": [
        "## Let's create some random submission data 🎉\n",
        "\n",
        "![](https://media.giphy.com/media/xT9C25UNTwfZuk85WP/giphy.gif)\n",
        "\n",
        "For the purposes of demonstration, let's generate a list of submissions with random names and random choices from the available list of pizza toppings: cheese, pepperoni and saussage.\n",
        "\n",
        "Those submissions will then be exported into an Excel file so that we have what we need to continue with the walkthrough of submitting data from an Excel spreadsheet."
      ]
    },
    {
      "cell_type": "code",
      "execution_count": 17,
      "metadata": {
        "id": "ZZQ3BVR4iYWT"
      },
      "outputs": [],
      "source": [
        "res = requests.get(url=XML_URL, headers=HEADERS, params=PARAMS)"
      ]
    },
    {
      "cell_type": "code",
      "execution_count": 18,
      "metadata": {
        "colab": {
          "base_uri": "https://localhost:8080/"
        },
        "id": "-ypytNOgiYWT",
        "outputId": "b82aaa15-5692-410a-b6af-161141bfb8e4"
      },
      "outputs": [
        {
          "output_type": "execute_result",
          "data": {
            "text/plain": [
              "200"
            ]
          },
          "metadata": {},
          "execution_count": 18
        }
      ],
      "source": [
        "res.status_code"
      ]
    },
    {
      "cell_type": "markdown",
      "metadata": {
        "id": "m5hBzAKRiYWT"
      },
      "source": [
        "If you take a look at the XML structure, the submissions are nested within `results` and use the `ASSET_UID` as their root."
      ]
    },
    {
      "cell_type": "code",
      "execution_count": 19,
      "metadata": {
        "id": "p1DUb9zuiYWU"
      },
      "outputs": [],
      "source": [
        "parsed_xml = ET.fromstring(res.text)\n",
        "e = parsed_xml.find(f'results/{ASSET_UID}')\n",
        "template = ET.tostring(e)"
      ]
    },
    {
      "cell_type": "code",
      "execution_count": 20,
      "metadata": {
        "colab": {
          "base_uri": "https://localhost:8080/"
        },
        "id": "0r-UwEaGiYWU",
        "outputId": "194fb1d2-4e2b-4c29-bca8-1edc5ef47f40"
      },
      "outputs": [
        {
          "output_type": "stream",
          "name": "stdout",
          "text": [
            "<akEPXAsUX5E5FXhqsnJDfk id=\"akEPXAsUX5E5FXhqsnJDfk\" version=\"1 (2025-03-07 11:30:57)\">&lt;?xml version='1.0' encoding='UTF-8' ?&gt;&lt;aDAE5k6arKDTPboTwLFSb8 id=\"aDAE5k6arKDTPboTwLFSb8\" version=\"vVNzMLHHMuYB9FHNtoWk5F\" xmlns:ev=\"http://www.w3.org/2001/xml-events\" xmlns:orx=\"http://openrosa.org/xforms\" xmlns:odk=\"http://www.opendatakit.org/xforms\" xmlns:h=\"http://www.w3.org/1999/xhtml\" xmlns:jr=\"http://openrosa.org/javarosa\" xmlns:xsd=\"http://www.w3.org/2001/XMLSchema\"&gt;&lt;formhub&gt;&lt;uuid&gt;20178d240cd14048b9eca2fc1fd591dc&lt;/uuid&gt;&lt;/formhub&gt;&lt;start&gt;2024-12-02T12:03:52.766+03:00&lt;/start&gt;&lt;end&gt;2024-12-02T12:56:26.619+03:00&lt;/end&gt;&lt;Organisation&gt;aph&lt;/Organisation&gt;&lt;Activity&gt;mhpss&lt;/Activity&gt;&lt;Hello_what_is_your_eaking_with_me_today&gt;yes&lt;/Hello_what_is_your_eaking_with_me_today&gt;&lt;Do_you_give_consent_to_take_part&gt;yes&lt;/Do_you_give_consent_to_take_part&gt;&lt;Can_you_tell_me_a_bi_you_been_involved_in&gt;Resin and now pss&lt;/Can_you_tell_me_a_bi_you_been_involved_in&gt;&lt;For_how_long_have_yo_isation_s_activities&gt;1 month&lt;/For_how_long_have_yo_isation_s_activities&gt;&lt;How_did_you_come_to_participat&gt;told_by_friend_someone_else&lt;/How_did_you_come_to_participat&gt;&lt;Is_that_the_normal_w_ject_in_the_same_way&gt;yes&lt;/Is_that_the_normal_w_ject_in_the_same_way&gt;&lt;Can_you_tell_me_what_access_this_project&gt;Likes to learn new skills &lt;/Can_you_tell_me_what_access_this_project&gt;&lt;Do_you_think_there_are_other_p&gt;yes&lt;/Do_you_think_there_are_other_p&gt;&lt;Why_do_you_think_they_cannot_join&gt;Not enough spaces for vocational trainings.  For pss some women might not have time, not know what pss is or the topics, discussions. She has attended 4 sessions so far,  she feels she learnt a lot already. After 3 sessions she could see an impact&lt;/Why_do_you_think_they_cannot_join&gt;&lt;Can_you_tell_me_abou_the_community_centre&gt;no&lt;/Can_you_tell_me_abou_the_community_centre&gt;&lt;If_yes_was_the_org_elp_support_you_How /&gt;&lt;_For_Cash_A_A_Can_ch_you_would_receive /&gt;&lt;_For_Cash_A_A_In_t_to_resolve_that_need /&gt;&lt;Follow_up_to_need_question /&gt;&lt;_For_Cash_A_A_Have_sation_If_yes_what /&gt;&lt;_For_Cash_A_A_Do_y_ways_to_get_support /&gt;&lt;What_does_this_activ_without_this_project&gt;Learning a lot of coping skils e.g. dealing with children, discussing with the other women and facilitators, sharing advice. Time management skills, keep up with busy childcare and other responsibilities.  &lt;/What_does_this_activ_without_this_project&gt;&lt;In_terms_of_how_the_our_or_anything_else&gt;The sessions are well run. Everyone staff treats her well, friendly atmosphere &lt;/In_terms_of_how_the_our_or_anything_else&gt;&lt;In_terms_of_how_the_have_you_found_them /&gt;&lt;Do_you_feel_respected_and_trea&gt;yes&lt;/Do_you_feel_respected_and_trea&gt;&lt;How_have_they_done_that /&gt;&lt;Have_you_been_able_t_m_the_project_at_all&gt;no_i_have_not_had_the_opportunity&lt;/Have_you_been_able_t_m_the_project_at_all&gt;&lt;How_did_they_do_this&gt;She would feel comfortable to give when she has some. At the end of the couse via the feedback form share at the end&lt;/How_did_they_do_this&gt;&lt;Is_there_anything_th_t_about_this_project&gt;Sessions structured for the children. Nothing for hers&lt;/Is_there_anything_th_t_about_this_project&gt;&lt;If_you_had_a_complai_make_that_complaint&gt;Brochure with phone number &lt;/If_you_had_a_complai_make_that_complaint&gt;&lt;Do_you_think_you_wou_aint_if_you_had_one&gt;Yes&lt;/Do_you_think_you_wou_aint_if_you_had_one&gt;&lt;Do_you_have_any_feed_dback_on_the_project&gt;To continue activities and increase pss sessions available &lt;/Do_you_have_any_feed_dback_on_the_project&gt;&lt;__version__&gt;vVNzMLHHMuYB9FHNtoWk5F&lt;/__version__&gt;&lt;meta&gt;&lt;instanceID&gt;uuid:700763a0-ee3d-44bc-b284-5901963302d4&lt;/instanceID&gt;&lt;/meta&gt;&lt;/aDAE5k6arKDTPboTwLFSb8&gt;<start>2025-03-07T14:42:25.217+03:00</start>\n",
            "          <end>2025-03-07T14:47:03.023+03:00</end>\n",
            "          <Organisation>aph</Organisation>\n",
            "          <Activity>mhpss</Activity>\n",
            "          <Hello_what_is_your_eaking_with_me_today>yes</Hello_what_is_your_eaking_with_me_today>\n",
            "          <Do_you_give_consent_to_take_part>yes</Do_you_give_consent_to_take_part>\n",
            "          <Can_you_tell_me_a_bi_you_been_involved_in>Resin and now pss</Can_you_tell_me_a_bi_you_been_involved_in>\n",
            "          <For_how_long_have_yo_isation_s_activities>1 month</For_how_long_have_yo_isation_s_activities>\n",
            "          <How_did_you_come_to_participat>told_by_friend_someone_else</How_did_you_come_to_participat>\n",
            "          <Is_that_the_normal_w_ject_in_the_same_way>yes</Is_that_the_normal_w_ject_in_the_same_way>\n",
            "          <Can_you_tell_me_what_access_this_project />\n",
            "          <Do_you_think_there_are_other_p>yes</Do_you_think_there_are_other_p>\n",
            "          <Why_do_you_think_they_cannot_join>Likes to learn new skills</Why_do_you_think_they_cannot_join>\n",
            "          <Can_you_tell_me_abou_the_community_centre>yes</Can_you_tell_me_abou_the_community_centre>\n",
            "          <If_yes_was_the_org_elp_support_you_How />\n",
            "          <_For_Cash_A_A_Can_ch_you_would_receive />\n",
            "          <_For_Cash_A_A_In_t_to_resolve_that_need />\n",
            "          <Follow_up_to_need_question />\n",
            "          <_For_Cash_A_A_Have_sation_If_yes_what />\n",
            "          <_For_Cash_A_A_Do_y_ways_to_get_support />\n",
            "          <What_does_this_activ_without_this_project />\n",
            "          <In_terms_of_how_the_our_or_anything_else />\n",
            "          <In_terms_of_how_the_have_you_found_them />\n",
            "          <Do_you_feel_respected_and_trea>yes</Do_you_feel_respected_and_trea>\n",
            "          <How_have_they_done_that />\n",
            "          \n",
            "          <Have_you_been_able_t_m_the_project_at_all>no_i_have_not_had_the_opportunity</Have_you_been_able_t_m_the_project_at_all>\n",
            "          <How_did_they_do_this>She would feel comfortable to give when she has some. At the end of the couse via the feedback form share at the end</How_did_they_do_this>\n",
            "          <Is_there_anything_th_t_about_this_project>Sessions structured for the children. Nothing for hers</Is_there_anything_th_t_about_this_project>\n",
            "          <If_you_had_a_complai_make_that_complaint>Brochure with phone number</If_you_had_a_complai_make_that_complaint>\n",
            "          <Do_you_think_you_wou_aint_if_you_had_one>Yes</Do_you_think_you_wou_aint_if_you_had_one>\n",
            "          <Do_you_have_any_feed_dback_on_the_project />\n",
            "          <meta>\n",
            "            <instanceID>uuid:16c61e8e-90c8-4b5d-8ce9-16809692bd27</instanceID>\n",
            "<rootUuid>d253b6276ddf4f5d9eadceefac064348</rootUuid>\n",
            "          <deprecatedID>uuid:d253b6276ddf4f5d9eadceefac064348</deprecatedID></meta>\n",
            "        <__version__>vyHccawWTiP4hpiffUkQh2</__version__><formhub><uuid>f37a36056ac74983bf98b9bec34595c6</uuid></formhub></akEPXAsUX5E5FXhqsnJDfk>\n"
          ]
        }
      ],
      "source": [
        "print(template.decode())"
      ]
    },
    {
      "cell_type": "markdown",
      "metadata": {
        "id": "WeSRZvW6iYWU"
      },
      "source": [
        "### Time for some hacking 💻\n",
        "\n",
        "![](https://media.giphy.com/media/wpoLqr5FT1sY0/giphy.gif)\n",
        "\n",
        "Now that we've got a template, let's go ahead and create some helpful methods to parse and update that template with the data in the Excel spreadsheet.\n",
        "\n",
        "(If you're interested, most of the process below is adapted from the code in KPI that interfaces with Kobocat [here](https://github.com/kobotoolbox/kpi/blob/d56621b6daced1891bc9fe2661c2aafe9e9a92a4/kpi/deployment_backends/kobocat_backend.py#L641-L722).)"
      ]
    },
    {
      "cell_type": "code",
      "execution_count": null,
      "metadata": {
        "id": "sZKnv7o5iYWU"
      },
      "outputs": [],
      "source": [
        "def submit_data(xml_sub: bytes, _uuid: str) -> str:\n",
        "    \"\"\"\n",
        "    Send the XML to kobo!\n",
        "    \"\"\"\n",
        "    file_tuple = (_uuid, io.BytesIO(xml_sub))\n",
        "    files = {'xml_submission_file': file_tuple}\n",
        "    res = requests.Request(\n",
        "        method='POST', url=SUMISSION_URL, files=files, headers=HEADERS\n",
        "    )\n",
        "    session = requests.Session()\n",
        "    res = session.send(res.prepare())\n",
        "    return res.status_code\n",
        "\n",
        "def format_openrosa_datetime() -> str:\n",
        "    \"\"\"\n",
        "    This is required to get the correct datetime formatting\n",
        "    \"\"\"\n",
        "    return datetime.now(tz=pytz.UTC).isoformat('T', 'milliseconds')\n",
        "\n",
        "def update_element_value(e: ET.Element, name: str, value: str) -> None:\n",
        "    \"\"\"\n",
        "    Get or create a node and give it a value\n",
        "    \"\"\"\n",
        "    el = e.find(name)\n",
        "    if el is None:\n",
        "        el = ET.SubElement(e, name)\n",
        "    el.text = value\n",
        "\n",
        "def create_submissions(data: pd.DataFrame) -> list:\n",
        "    \"\"\"\n",
        "    Take a bunch of submissions and send them off\n",
        "    \"\"\"\n",
        "    all_subs = []\n",
        "    parsed_xml = ET.fromstring(template)\n",
        "    for i, row in data.iterrows():\n",
        "        _now = format_openrosa_datetime()\n",
        "        _uuid = str(uuid.uuid4())\n",
        "\n",
        "        for item in data.columns:\n",
        "            update_element_value(parsed_xml, item, row[item])\n",
        "\n",
        "        # We have to update the instanceID, otherwise there'll be issues\n",
        "        update_element_value(parsed_xml, 'meta/instanceID', f'uuid:{_uuid}')\n",
        "\n",
        "        # Updating the `start` and `end` times is not really necessary, but\n",
        "        # probably something you'd want to do\n",
        "        update_element_value(parsed_xml, 'start', _now)\n",
        "        update_element_value(parsed_xml, 'end', _now)\n",
        "\n",
        "        all_subs.append(submit_data(ET.tostring(parsed_xml), _uuid))\n",
        "\n",
        "        # If you are submitting a large amount of data, please be mindful that it can\n",
        "        # overwhelm the servers if sent in a short span of time. Letting it sleep for\n",
        "        # for a short stint between each upload will be much appreciated\n",
        "        sleep(0.2)\n",
        "\n",
        "    return all_subs"
      ]
    },
    {
      "cell_type": "code",
      "execution_count": null,
      "metadata": {
        "id": "-0_4-EqHiYWV"
      },
      "outputs": [],
      "source": [
        "responses = create_submissions(subs)"
      ]
    },
    {
      "cell_type": "markdown",
      "metadata": {
        "id": "oNA8cb6giYWV"
      },
      "source": [
        "Let's do a quick check to see if all the responses were successful:"
      ]
    },
    {
      "cell_type": "code",
      "execution_count": null,
      "metadata": {
        "id": "rxvQpiUBiYWV",
        "outputId": "8bd6d965-fa93-4dca-b8e7-efd1f0f7f93f"
      },
      "outputs": [
        {
          "data": {
            "text/plain": [
              "True"
            ]
          },
          "execution_count": 19,
          "metadata": {},
          "output_type": "execute_result"
        }
      ],
      "source": [
        "all(res == 201 for res in responses)"
      ]
    },
    {
      "cell_type": "markdown",
      "metadata": {
        "id": "pzo96MnoiYWW"
      },
      "source": [
        "If there were a few unsuccessful, let's see how many..."
      ]
    },
    {
      "cell_type": "code",
      "execution_count": null,
      "metadata": {
        "id": "Wvwb1otMiYWW",
        "outputId": "17864c81-7b39-41d5-e391-aa89794d3b12"
      },
      "outputs": [
        {
          "data": {
            "text/plain": [
              "201    20\n",
              "dtype: int64"
            ]
          },
          "execution_count": 20,
          "metadata": {},
          "output_type": "execute_result"
        }
      ],
      "source": [
        "pd.Series(responses).value_counts()"
      ]
    },
    {
      "cell_type": "markdown",
      "metadata": {
        "id": "zIGigRyGiYWW"
      },
      "source": [
        "## All done 🔥\n",
        "\n",
        "Check the data table in the Kobo UI and ensure that your data has been successfully submitted.\n",
        "\n",
        "![](https://media.giphy.com/media/lD76yTC5zxZPG/giphy.gif)"
      ]
    }
  ],
  "metadata": {
    "kernelspec": {
      "display_name": "Python 3",
      "language": "python",
      "name": "python3"
    },
    "language_info": {
      "codemirror_mode": {
        "name": "ipython",
        "version": 3
      },
      "file_extension": ".py",
      "mimetype": "text/x-python",
      "name": "python",
      "nbconvert_exporter": "python",
      "pygments_lexer": "ipython3",
      "version": "3.8.6"
    },
    "colab": {
      "provenance": []
    }
  },
  "nbformat": 4,
  "nbformat_minor": 0
}